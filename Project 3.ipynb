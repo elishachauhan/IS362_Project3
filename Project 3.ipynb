{
 "cells": [
  {
   "cell_type": "markdown",
   "metadata": {},
   "source": [
    "# Project 3\n",
    "\n",
    "## Structured Data"
   ]
  },
  {
   "cell_type": "code",
   "execution_count": 1,
   "metadata": {
    "collapsed": true
   },
   "outputs": [],
   "source": [
    "import  pandas as pd\n",
    "import sqlite3\n",
    "from sqlalchemy import create_engine"
   ]
  },
  {
   "cell_type": "code",
   "execution_count": 2,
   "metadata": {
    "collapsed": true
   },
   "outputs": [],
   "source": [
    "con = sqlite3.connect('C:\\Data\\Chinook\\Chinook_Sqlite.sqlite')\n",
    "tracks = pd.read_sql_query(\"SELECT * from Track\", con=con)"
   ]
  },
  {
   "cell_type": "code",
   "execution_count": 3,
   "metadata": {
    "collapsed": false
   },
   "outputs": [
    {
     "data": {
      "text/html": [
       "<div>\n",
       "<table border=\"1\" class=\"dataframe\">\n",
       "  <thead>\n",
       "    <tr style=\"text-align: right;\">\n",
       "      <th></th>\n",
       "      <th>LastName</th>\n",
       "      <th>FirstName</th>\n",
       "      <th>Name</th>\n",
       "      <th>Title</th>\n",
       "    </tr>\n",
       "  </thead>\n",
       "  <tbody>\n",
       "    <tr>\n",
       "      <th>0</th>\n",
       "      <td>Almeida</td>\n",
       "      <td>Roberto</td>\n",
       "      <td>Right Next Door to Hell</td>\n",
       "      <td>Use Your Illusion I</td>\n",
       "    </tr>\n",
       "    <tr>\n",
       "      <th>1</th>\n",
       "      <td>Almeida</td>\n",
       "      <td>Roberto</td>\n",
       "      <td>In The Evening</td>\n",
       "      <td>In Through The Out Door</td>\n",
       "    </tr>\n",
       "    <tr>\n",
       "      <th>2</th>\n",
       "      <td>Almeida</td>\n",
       "      <td>Roberto</td>\n",
       "      <td>Fool In The Rain</td>\n",
       "      <td>In Through The Out Door</td>\n",
       "    </tr>\n",
       "    <tr>\n",
       "      <th>3</th>\n",
       "      <td>Almeida</td>\n",
       "      <td>Roberto</td>\n",
       "      <td>Saudade Dos Aviões Da Panair (Conversando No Bar)</td>\n",
       "      <td>Minas</td>\n",
       "    </tr>\n",
       "    <tr>\n",
       "      <th>4</th>\n",
       "      <td>Almeida</td>\n",
       "      <td>Roberto</td>\n",
       "      <td>Caso Você Queira Saber</td>\n",
       "      <td>Minas</td>\n",
       "    </tr>\n",
       "  </tbody>\n",
       "</table>\n",
       "</div>"
      ],
      "text/plain": [
       "  LastName FirstName                                               Name  \\\n",
       "0  Almeida   Roberto                            Right Next Door to Hell   \n",
       "1  Almeida   Roberto                                     In The Evening   \n",
       "2  Almeida   Roberto                                   Fool In The Rain   \n",
       "3  Almeida   Roberto  Saudade Dos Aviões Da Panair (Conversando No Bar)   \n",
       "4  Almeida   Roberto                             Caso Você Queira Saber   \n",
       "\n",
       "                     Title  \n",
       "0      Use Your Illusion I  \n",
       "1  In Through The Out Door  \n",
       "2  In Through The Out Door  \n",
       "3                    Minas  \n",
       "4                    Minas  "
      ]
     },
     "execution_count": 3,
     "metadata": {},
     "output_type": "execute_result"
    }
   ],
   "source": [
    "sql = '''SELECT c.LastName, c.FirstName, t.Name, a.Title\n",
    "         FROM Customer as c\n",
    "         LEFT JOIN Invoice as i\n",
    "         ON c.CustomerId = i.CustomerId\n",
    "         LEFT JOIN InvoiceLine as il\n",
    "         ON i.InvoiceId = il.InvoiceId\n",
    "         LEFT JOIN Track as t\n",
    "         ON il.TrackId = t.TrackId\n",
    "         LEFT JOIN Album as a\n",
    "         ON t.AlbumId = a.AlbumId\n",
    "         ORDER BY c.LastName, c.FirstName'''\n",
    "\n",
    "con = sqlite3.connect(\"C:\\Data\\Chinook\\Chinook_Sqlite.sqlite\")\n",
    "pd.read_sql_query(sql , con=con).head(5)"
   ]
  }
 ],
 "metadata": {
  "kernelspec": {
   "display_name": "Python 3",
   "language": "python",
   "name": "python3"
  },
  "language_info": {
   "codemirror_mode": {
    "name": "ipython",
    "version": 3
   },
   "file_extension": ".py",
   "mimetype": "text/x-python",
   "name": "python",
   "nbconvert_exporter": "python",
   "pygments_lexer": "ipython3",
   "version": "3.6.0"
  }
 },
 "nbformat": 4,
 "nbformat_minor": 2
}
